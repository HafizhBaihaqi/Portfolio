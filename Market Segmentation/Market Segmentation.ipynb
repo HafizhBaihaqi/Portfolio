{
 "metadata": {
  "language_info": {
   "codemirror_mode": {
    "name": "ipython",
    "version": 3
   },
   "file_extension": ".py",
   "mimetype": "text/x-python",
   "name": "python",
   "nbconvert_exporter": "python",
   "pygments_lexer": "ipython3",
   "version": "3.8.3-final"
  },
  "orig_nbformat": 2,
  "kernelspec": {
   "name": "python3",
   "display_name": "Python 3.8.3 64-bit (conda)",
   "metadata": {
    "interpreter": {
     "hash": "bbba2817a7a75c495f27af8873ba2cc0215c05b5159c3b457674c233b2426863"
    }
   }
  }
 },
 "nbformat": 4,
 "nbformat_minor": 2,
 "cells": [
  {
   "source": [
    "# **Market Segmentation**\n",
    "\n",
    "---"
   ],
   "cell_type": "markdown",
   "metadata": {}
  },
  {
   "source": [
    "# Latar Belakang  \n",
    "\n",
    "Menggunakan dataset dari https://www.kaggle.com/vik2012kvs/high-value-customers-identification  \n",
    "Toko retail online yang berasal dari United Kingdom mempunyai data penjualan berbagai produk selama periode satu tahun (November 2016 - Desember 2017). Toko tersebut menjual hadiah (gift) di platform online-nya.   \n",
    "\n",
    "# Project Objective\n",
    "\n",
    "Temukan pelanggan yang melakukan pembelian yang tinggi. Perusahaan ingin meluncurkan program loyalitas / loyality program kepada pelanggan yang mempunyai high-value setelah mengidentifikasi segmen.\n"
   ],
   "cell_type": "markdown",
   "metadata": {}
  },
  {
   "source": [
    "---"
   ],
   "cell_type": "markdown",
   "metadata": {}
  },
  {
   "source": [
    "# Import"
   ],
   "cell_type": "markdown",
   "metadata": {}
  },
  {
   "source": [
    "## Library"
   ],
   "cell_type": "markdown",
   "metadata": {}
  },
  {
   "cell_type": "code",
   "execution_count": null,
   "metadata": {},
   "outputs": [],
   "source": [
    "import pandas as pd \n",
    "import numpy as np \n",
    "\n",
    "import matplotlib.pyplot as plt \n",
    "import seaborn as sns \n",
    "from pandas.plotting import parallel_coordinates\n",
    "\n",
    "from datetime import datetime\n",
    "import datetime\n",
    "\n",
    "from sklearn.preprocessing import StandardScaler\n",
    "from sklearn.cluster import KMeans\n",
    "from sklearn.metrics import silhouette_score"
   ]
  },
  {
   "source": [
    " ## Dataset"
   ],
   "cell_type": "markdown",
   "metadata": {}
  },
  {
   "cell_type": "code",
   "execution_count": null,
   "metadata": {},
   "outputs": [],
   "source": [
    "df = pd.read_csv('Ecommerce.csv', encoding='ISO-8859-1')\n",
    "df.head()"
   ]
  },
  {
   "source": [
    " ## Dataset Content\n",
    "\n",
    "1. Invoice No  \n",
    "Purchase invoice no, unique for transaction\n",
    "\n",
    "2. Stock Code  \n",
    "Purchased item stock code, unique item code\n",
    "\n",
    "3. Description  \n",
    "Item description\n",
    "\n",
    "4. Quantity  \n",
    "No of items purchased\n",
    "\n",
    "5. Invoice Date\n",
    "Date of purchase\n",
    "\n",
    "6. Unit Price  \n",
    "Item unit price\n",
    "\n",
    "7. Customer ID  \n",
    "Customer unique reference\n",
    "\n",
    "8. Country  \n",
    "Country of location"
   ],
   "cell_type": "markdown",
   "metadata": {}
  },
  {
   "source": [
    "---"
   ],
   "cell_type": "markdown",
   "metadata": {}
  },
  {
   "source": [
    "# Preprocessing"
   ],
   "cell_type": "markdown",
   "metadata": {}
  },
  {
   "source": [
    " ## Tipe data  \n",
    "\n",
    " Membetulkan tipe data."
   ],
   "cell_type": "markdown",
   "metadata": {}
  },
  {
   "cell_type": "code",
   "execution_count": null,
   "metadata": {},
   "outputs": [],
   "source": [
    "df.info()"
   ]
  },
  {
   "cell_type": "code",
   "execution_count": null,
   "metadata": {},
   "outputs": [],
   "source": [
    "df.drop('Unnamed: 8', axis=1, inplace=True)"
   ]
  },
  {
   "cell_type": "code",
   "execution_count": null,
   "metadata": {},
   "outputs": [],
   "source": [
    "df['InvoiceDate'] = pd.to_datetime(df['InvoiceDate'])\n",
    "\n",
    "df['CustomerID'] = df['CustomerID'].astype(str)"
   ]
  },
  {
   "cell_type": "code",
   "execution_count": null,
   "metadata": {},
   "outputs": [],
   "source": [
    "df.dtypes"
   ]
  },
  {
   "cell_type": "code",
   "execution_count": null,
   "metadata": {},
   "outputs": [],
   "source": [
    "df['CustomerID'] = df['CustomerID'].apply(lambda x: x.replace('.0',''))"
   ]
  },
  {
   "source": [
    " ## Menentukan tahun"
   ],
   "cell_type": "markdown",
   "metadata": {}
  },
  {
   "cell_type": "code",
   "execution_count": null,
   "metadata": {},
   "outputs": [],
   "source": [
    "df['InvoiceYear'] = pd.to_datetime(df['InvoiceDate']).dt.year\n",
    "\n",
    "df.head()"
   ]
  },
  {
   "cell_type": "code",
   "execution_count": null,
   "metadata": {},
   "outputs": [],
   "source": [
    "df['InvoiceYear'].value_counts()"
   ]
  },
  {
   "source": [
    "Karena data terbanyak terdapat pada tahun 2017, maka data tersebut yang akan dipakai"
   ],
   "cell_type": "markdown",
   "metadata": {}
  },
  {
   "cell_type": "code",
   "execution_count": null,
   "metadata": {},
   "outputs": [],
   "source": [
    "df = df[df['InvoiceYear']==2017]\n",
    "\n",
    "df['InvoiceYear'].value_counts()"
   ]
  },
  {
   "source": [
    " ## Missing Value"
   ],
   "cell_type": "markdown",
   "metadata": {}
  },
  {
   "cell_type": "code",
   "execution_count": null,
   "metadata": {},
   "outputs": [],
   "source": [
    "df.isna().sum()"
   ]
  },
  {
   "cell_type": "code",
   "execution_count": null,
   "metadata": {},
   "outputs": [],
   "source": [
    "df.drop('Description', axis=1, inplace=True)"
   ]
  },
  {
   "cell_type": "code",
   "execution_count": null,
   "metadata": {},
   "outputs": [],
   "source": [
    "df[df['CustomerID']=='nan'].count()['CustomerID']"
   ]
  },
  {
   "source": [
    " ## Statistik Deskriptif"
   ],
   "cell_type": "markdown",
   "metadata": {}
  },
  {
   "cell_type": "code",
   "execution_count": null,
   "metadata": {},
   "outputs": [],
   "source": [
    "df.describe()"
   ]
  },
  {
   "source": [
    "Dari hasil statistik deskriptif menunjukan bahwa ada nilai yang tidak benar di kolom Quantity dan UnitPrice. Nilai tersebut tidak seharusnya kurang dari nol"
   ],
   "cell_type": "markdown",
   "metadata": {}
  },
  {
   "cell_type": "code",
   "execution_count": null,
   "metadata": {},
   "outputs": [],
   "source": [
    "row, column = df.shape"
   ]
  },
  {
   "cell_type": "code",
   "execution_count": null,
   "metadata": {},
   "outputs": [],
   "source": [
    "describe = pd.DataFrame({\n",
    "    'Columns':['Quantity','UnitPrice'],\n",
    "    'Summary':[len(df[df['Quantity']<1]),len(df[df['UnitPrice']<1])],\n",
    "    'Percentage':[(len(df[df['Quantity']<1])/row)*100,(len(df[df['UnitPrice']<1])/row)*100]\n",
    "})\n",
    "\n",
    "describe"
   ]
  },
  {
   "source": [
    "Walaupun jumlah data yang tidak valid pada kolom UnitPrice sangat banyak (21%), data tersebut tidak akan dipakai karena untuk menghindari kesalahan"
   ],
   "cell_type": "markdown",
   "metadata": {}
  },
  {
   "cell_type": "code",
   "execution_count": null,
   "metadata": {},
   "outputs": [],
   "source": [
    "df = df.loc[(df['Quantity']>0) & (df['UnitPrice']>0) & (df['CustomerID']!='nan')]"
   ]
  },
  {
   "cell_type": "code",
   "execution_count": null,
   "metadata": {},
   "outputs": [],
   "source": [
    "df.describe().round(3)"
   ]
  },
  {
   "source": [
    " ## Menambah kolom total sales"
   ],
   "cell_type": "markdown",
   "metadata": {}
  },
  {
   "cell_type": "code",
   "execution_count": null,
   "metadata": {},
   "outputs": [],
   "source": [
    "df['TotalSales'] = df['Quantity']*df['UnitPrice']\n",
    "df.head()"
   ]
  },
  {
   "source": [
    "---"
   ],
   "cell_type": "markdown",
   "metadata": {}
  },
  {
   "source": [
    "# Recency, Frequency dan Monetary   \n",
    "\n",
    "\n",
    "Menggunakan data Recency, Frequency dan Monetary yang sudah terbukti untuk mempresentasikan aktifitas transaksi atau perilaku pelanggan di berbagai industri.  \n",
    "* Recency  \n",
    "Berapa lama setelah transaksi terakhir pelanggan\n",
    "* Frequency  \n",
    "Berapa kali transaksi yang dilakukan pelanggan\n",
    "* Monetary  \n",
    "Berapa yang yang sudah dibelanjakan oleh pelanggan\n"
   ],
   "cell_type": "markdown",
   "metadata": {}
  },
  {
   "source": [
    " ## Tanggal referensi  \n",
    "\n",
    " Membuat tanggal referensi untuk analisis dan segmentasi."
   ],
   "cell_type": "markdown",
   "metadata": {}
  },
  {
   "cell_type": "code",
   "execution_count": null,
   "metadata": {},
   "outputs": [],
   "source": [
    "ref_date = max(df['InvoiceDate']) + datetime.timedelta(days=1)\n",
    "\n",
    "print('Tanggal referensi adalah:', ref_date.date())"
   ]
  },
  {
   "source": [
    "## Aggregasi data per invoice"
   ],
   "cell_type": "markdown",
   "metadata": {}
  },
  {
   "cell_type": "code",
   "execution_count": null,
   "metadata": {},
   "outputs": [],
   "source": [
    "df['Day'] = df['InvoiceDate'].dt.date"
   ]
  },
  {
   "cell_type": "code",
   "execution_count": null,
   "metadata": {},
   "outputs": [],
   "source": [
    "df_inv = df.groupby(['Day','InvoiceNo','CustomerID'], as_index=False).agg({'TotalSales':'sum'})\n",
    "\n",
    "df_inv"
   ]
  },
  {
   "cell_type": "code",
   "execution_count": null,
   "metadata": {},
   "outputs": [],
   "source": [
    "df_inv.groupby('CustomerID', observed=True).count()"
   ]
  },
  {
   "source": [
    " ## Aggregate data untuk tiap customer\n",
    "\n",
    "Step ini dilakukan untuk aggregasi tiap pelanggan agar mendapatkan nilai recency, frequency dan monetary."
   ],
   "cell_type": "markdown",
   "metadata": {}
  },
  {
   "cell_type": "code",
   "execution_count": null,
   "metadata": {},
   "outputs": [],
   "source": [
    "customer = df_inv.groupby(['CustomerID']).agg({\n",
    "    'Day':lambda x: (ref_date.date()-x.max()).days,\n",
    "    'InvoiceNo':'count',\n",
    "    'TotalSales':'sum'\n",
    "})\n",
    "\n",
    "customer.rename(columns={\n",
    "    'Day':'Recency',\n",
    "    'InvoiceNo':'Frequency',\n",
    "    'TotalSales':'Monetary'\n",
    "}, inplace=True)\n",
    "\n",
    "customer"
   ]
  },
  {
   "source": [
    "---"
   ],
   "cell_type": "markdown",
   "metadata": {}
  },
  {
   "source": [
    "# Exploratory Data Analysis"
   ],
   "cell_type": "markdown",
   "metadata": {}
  },
  {
   "cell_type": "code",
   "execution_count": null,
   "metadata": {},
   "outputs": [],
   "source": [
    "customer.describe().round(2)"
   ]
  },
  {
   "source": [
    "Dari hasil di atas, dapat diketahui bahwa:\n",
    "* rata-rata pelanggan melakukan transaksi 85 hari yang lalu\n",
    "* rata-rata pelanggan melakukan transaksi sebanyak 4 kali\n",
    "* rata-rata pelanggan mengeluarkan uang sebesar 2332 pound sterling"
   ],
   "cell_type": "markdown",
   "metadata": {}
  },
  {
   "source": [
    "## Distribusi Data"
   ],
   "cell_type": "markdown",
   "metadata": {}
  },
  {
   "cell_type": "code",
   "execution_count": null,
   "metadata": {},
   "outputs": [],
   "source": [
    "plt.style.use('seaborn')"
   ]
  },
  {
   "cell_type": "code",
   "execution_count": null,
   "metadata": {},
   "outputs": [],
   "source": [
    "sns.pairplot(customer, plot_kws={'alpha':0.8}, height=3)\n",
    "plt.show()"
   ]
  },
  {
   "source": [
    "Nilai Frequency dan Monetary berkumpul di sisi sebelah kiri yang artinya frekuensi pelanggan melakukan transaksi rendah dan pelanggan rata-rata mengeluarkan uang sedikit.\n",
    "\n",
    "Karena terdapat skewness pada data, akan dilakukan data transformasi menggunakan log untuk membuat distribusi data mendekati normal agar hasil model yang didapatkan akan lebih optimal."
   ],
   "cell_type": "markdown",
   "metadata": {}
  },
  {
   "source": [
    " ## Log Transform"
   ],
   "cell_type": "markdown",
   "metadata": {}
  },
  {
   "cell_type": "code",
   "execution_count": null,
   "metadata": {},
   "outputs": [],
   "source": [
    "log_customer = np.log10(customer)\n",
    "\n",
    "log_customer.head()"
   ]
  },
  {
   "cell_type": "code",
   "execution_count": null,
   "metadata": {},
   "outputs": [],
   "source": [
    "sns.pairplot(log_customer, plot_kws={'alpha':0.8}, height=3)\n",
    "plt.show()"
   ]
  },
  {
   "source": [
    " ## Scaling\n",
    "\n",
    "Model Machine Learning yang akan digunakan untuk segmentasi adalah K-Means. Untuk mendapatkan hasil yang lebih optimal, perlu melakukan standarisasi data agar seluruh data memiliki scala yang sama. Dikarenakan algoritma K-Means akan menentukan cluster berdasarkan jarak antar titik ke titik yang lain."
   ],
   "cell_type": "markdown",
   "metadata": {}
  },
  {
   "cell_type": "code",
   "execution_count": null,
   "metadata": {},
   "outputs": [],
   "source": [
    "scaler = StandardScaler()\n",
    "\n",
    "scaler.fit(log_customer)\n",
    "customer_scaled = scaler.transform(log_customer)\n",
    "\n",
    "customer_scaled = pd.DataFrame(customer_scaled, index=log_customer.index, columns=['Recency_scaled','Frequency_scaled','Monetary_scaled'])\n",
    "\n",
    "customer_scaled.head()"
   ]
  },
  {
   "cell_type": "code",
   "execution_count": null,
   "metadata": {},
   "outputs": [],
   "source": [
    "sns.kdeplot(customer_scaled['Recency_scaled'], shade=True)\n",
    "sns.kdeplot(customer_scaled['Frequency_scaled'], shade=True)\n",
    "sns.kdeplot(customer_scaled['Monetary_scaled'], shade=True)"
   ]
  },
  {
   "source": [
    "---"
   ],
   "cell_type": "markdown",
   "metadata": {}
  },
  {
   "source": [
    "# Machine Learning\n",
    "\n",
    "Segmentasi akan menggunakank algoritma K-Means. K-Means merupakan salah satu teknik unsupervised Machine Learning.  \n",
    "\n",
    "Salah satu nilai penting yang harus dimasukkan pada algoritma K-Means adalah jumlah cluster yang diinginkan. Oleh karena itu, perlu mencari berapa jumlah cluster yang optimal untuk data yang di punya. Salah satu cara untuk mendapatkan nilai optimal tersebut adalah menggunakan bantuan Silhouette Method."
   ],
   "cell_type": "markdown",
   "metadata": {}
  },
  {
   "source": [
    "## Silhouette Method"
   ],
   "cell_type": "markdown",
   "metadata": {}
  },
  {
   "cell_type": "code",
   "execution_count": null,
   "metadata": {},
   "outputs": [],
   "source": [
    "silhouette_score_list = []\n",
    "number_of_cluster = range(2,11)\n",
    "\n",
    "for i in number_of_cluster:\n",
    "    kmeans = KMeans(n_clusters=i)\n",
    "    kmeans.fit(customer_scaled)\n",
    "\n",
    "    labels = kmeans.labels_\n",
    "    silhouette_score_list.append(silhouette_score(customer_scaled, labels, metric='euclidean'))"
   ]
  },
  {
   "cell_type": "code",
   "execution_count": null,
   "metadata": {},
   "outputs": [],
   "source": [
    "plt.figure(figsize=(10,8))\n",
    "sns.lineplot(number_of_cluster, silhouette_score_list)\n",
    "sns.scatterplot(number_of_cluster, silhouette_score_list)\n",
    "\n",
    "plt.title('Silhouette Score')\n",
    "plt.xlabel('Number of Cluster')\n",
    "plt.ylabel('Average Within Sumsquare')\n",
    "plt.show()"
   ]
  },
  {
   "source": [
    "Silhouette Score terbaik terdapat pada cluster berjumlah 2."
   ],
   "cell_type": "markdown",
   "metadata": {}
  },
  {
   "source": [
    "## Fitting"
   ],
   "cell_type": "markdown",
   "metadata": {}
  },
  {
   "cell_type": "code",
   "execution_count": null,
   "metadata": {},
   "outputs": [],
   "source": [
    "kmeans = KMeans(n_clusters=2)\n",
    "kmeans.fit(customer_scaled)\n",
    "\n",
    "customer_scaled['Cluster'] = kmeans.labels_\n",
    "customer_scaled"
   ]
  },
  {
   "cell_type": "code",
   "execution_count": null,
   "metadata": {},
   "outputs": [],
   "source": [
    "sns.pairplot(customer_scaled, plot_kws={'alpha':0.8,'size':0.5}, height=3, hue='Cluster')\n",
    "plt.show()"
   ]
  },
  {
   "source": [
    "sns.set_style('dark')\n",
    "\n",
    "df_plot = customer_scaled.groupby(['Cluster'], as_index=False).mean().round(2)\n",
    "\n",
    "fig = plt.figure(figsize=(15,5))\n",
    "title = fig.suptitle('Parallel Coordinates', fontsize=18)\n",
    "\n",
    "pc = parallel_coordinates(df_plot, 'Cluster', color=['blue','red'])"
   ],
   "cell_type": "code",
   "metadata": {},
   "execution_count": null,
   "outputs": []
  },
  {
   "source": [
    "Dari hasil parallel coordinates plot tersebut dapat diketahui bahwa urutan nilai yang dimiliki oleh tiap cluster dan bisa mengetahui mana cluster yang baik, yaitu cluster 0."
   ],
   "cell_type": "markdown",
   "metadata": {}
  },
  {
   "source": [
    "## Menggabungkan dengan data asli"
   ],
   "cell_type": "markdown",
   "metadata": {}
  },
  {
   "cell_type": "code",
   "execution_count": null,
   "metadata": {},
   "outputs": [],
   "source": [
    "df_join = customer_scaled.merge(customer, how='inner', left_index=True, right_index=True)\n",
    "\n",
    "df_result = df_join[['Recency','Frequency','Monetary','Cluster']]"
   ]
  },
  {
   "cell_type": "code",
   "execution_count": null,
   "metadata": {},
   "outputs": [],
   "source": [
    "df_result.groupby('Cluster').mean()"
   ]
  },
  {
   "source": [
    "## Nama Segmen Pelanggan  \n",
    "\n",
    "Dari hasil segmentasi, didapatkan 2 segmen pelanggan:\n",
    "* Cluster 0 -> Loyalist: pelanggan yang aktif dan sering bertransaksi\n",
    "* Cluster 1 -> Loss: pelanggan yang lama tidak bertransaksi dengan rata-rata freqeuncy dan monetary yang rendah"
   ],
   "cell_type": "markdown",
   "metadata": {}
  },
  {
   "source": [
    "df_result['Segment'] = df_result['Cluster'].map({\n",
    "    0:'Loyalist',\n",
    "    1:'Loss'\n",
    "})\n",
    "\n",
    "df_result"
   ],
   "cell_type": "code",
   "metadata": {},
   "execution_count": null,
   "outputs": []
  },
  {
   "cell_type": "code",
   "execution_count": null,
   "metadata": {},
   "outputs": [],
   "source": [
    "f, ax = plt.subplots(1,2, figsize=(15,10))\n",
    "\n",
    "g = sns.barplot(x = df_result['Segment'].value_counts(),\n",
    "                y = df_result['Segment'].value_counts().index,\n",
    "                order = ['Loyalist','Loss'],\n",
    "                color = 'lightblue',\n",
    "                ax = ax[0])\n",
    "\n",
    "g = sns.barplot(x = df_result['Segment'].value_counts(),\n",
    "                y = df_result['Segment'].value_counts().index,\n",
    "                color = 'lightblue',\n",
    "                ax = ax[1])\n",
    "\n",
    "ax[0].set(title = 'Number of Users in Each Clusters Sorted by Cluster Values',\n",
    "          xlabel = '',\n",
    "          xticks = ([]))\n",
    "\n",
    "ax[1].set(title = 'Number of Users in Each Clusters Sorted by Count Users',\n",
    "          xlabel = '',\n",
    "          xticks = ([]))\n",
    "\n",
    "sns.despine(right=True, bottom=True, top=True)\n",
    "\n",
    "labels = df_result['Segment'].value_counts().index\n",
    "\n",
    "x_1 = df_result['Segment'].value_counts(sort=False, normalize=True)*100\n",
    "x_1 = x_1.reindex(['Loyalist','Loss'])\n",
    "x_2 = df_result['Segment'].value_counts()\n",
    "\n",
    "for n, i in enumerate(labels):\n",
    " \n",
    "  ax[0].text(x_1[n]-0.003,\n",
    "             n, \n",
    "             s = f'{round(x_1[n],2):,}%', \n",
    "             va = 'center',\n",
    "             ha = 'left', \n",
    "             color = 'black',\n",
    "             fontsize=20)\n",
    "  ax[1].text(x_2[n]-0.1, \n",
    "             n, \n",
    "             s = f'{round(x_2[n],2):,}', \n",
    "             va = 'center', \n",
    "             ha = 'right', \n",
    "             color = 'black',\n",
    "             fontsize=20)"
   ]
  },
  {
   "source": [
    "## Menyimpan hasil"
   ],
   "cell_type": "markdown",
   "metadata": {}
  },
  {
   "cell_type": "code",
   "execution_count": null,
   "metadata": {},
   "outputs": [],
   "source": [
    "df_result.to_csv('user_segment.csv')"
   ]
  },
  {
   "source": [
    "---"
   ],
   "cell_type": "markdown",
   "metadata": {}
  },
  {
   "source": [
    "# Kesimpulan\n",
    "\n",
    "Terdapat 2 segmentasi dari hasil clustering, yaitu Loyalist dan Loss. Customer dengan segmentasi Loyalist adalah pelanggan yang aktif bertransaksi dengan rata-rata transaksi terakhir 26 hari yang lalu, dengan rata-rata frequency belanja sebanyak 7 kali, serta mengeluarkan uang rata-rata sebesar 4.172 pound sterling.\n",
    "\n",
    "Namun, pada tahun 2017 kebanyakan customer bersegmentasi Loss sebesar 59.23% atau 2.499 customer (dari total 4.219). Yaitu pelanggan yang lama tidak bertransaksi dengan rata-rata frequency dan monetary yang rendah."
   ],
   "cell_type": "markdown",
   "metadata": {}
  }
 ]
}