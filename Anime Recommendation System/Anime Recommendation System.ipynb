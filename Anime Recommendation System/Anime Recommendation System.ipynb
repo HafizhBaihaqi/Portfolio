{
 "metadata": {
  "language_info": {
   "codemirror_mode": {
    "name": "ipython",
    "version": 3
   },
   "file_extension": ".py",
   "mimetype": "text/x-python",
   "name": "python",
   "nbconvert_exporter": "python",
   "pygments_lexer": "ipython3",
   "version": "3.8.3"
  },
  "orig_nbformat": 2,
  "kernelspec": {
   "name": "python383jvsc74a57bd0bbba2817a7a75c495f27af8873ba2cc0215c05b5159c3b457674c233b2426863",
   "display_name": "Python 3.8.3 64-bit ('base': conda)"
  }
 },
 "nbformat": 4,
 "nbformat_minor": 2,
 "cells": [
  {
   "source": [
    "# Anime Recommendation System\n",
    "---"
   ],
   "cell_type": "markdown",
   "metadata": {}
  },
  {
   "source": [
    "# Latar Belakang  \n",
    "Menggunakan dataset dari https://www.kaggle.com/CooperUnion/anime-recommendations-database?select=anime.csv\n",
    "Dataset ini mengandung informasi mengenai user preference data dari 73.516 user pada 12.294 anime\n",
    "\n",
    "# Project Objective  \n",
    "Membuat anime recommendation system menggunakan metode 'Similiarity Measure' dan 'Content Based Recommendation System'."
   ],
   "cell_type": "markdown",
   "metadata": {}
  },
  {
   "source": [
    "---"
   ],
   "cell_type": "markdown",
   "metadata": {}
  },
  {
   "source": [
    "# Import"
   ],
   "cell_type": "markdown",
   "metadata": {}
  },
  {
   "source": [
    "## Library"
   ],
   "cell_type": "markdown",
   "metadata": {}
  },
  {
   "cell_type": "code",
   "execution_count": 40,
   "metadata": {},
   "outputs": [],
   "source": [
    "import pandas as pd \n",
    "import numpy as np \n",
    "from sklearn.feature_extraction.text import CountVectorizer\n",
    "from sklearn.metrics.pairwise import cosine_similarity"
   ]
  },
  {
   "source": [
    "## Dataset"
   ],
   "cell_type": "markdown",
   "metadata": {}
  },
  {
   "cell_type": "code",
   "execution_count": 41,
   "metadata": {},
   "outputs": [
    {
     "output_type": "execute_result",
     "data": {
      "text/plain": [
       "   anime_id                              name  \\\n",
       "0     32281                    Kimi no Na wa.   \n",
       "1      5114  Fullmetal Alchemist: Brotherhood   \n",
       "2     28977                          Gintama°   \n",
       "3      9253                       Steins;Gate   \n",
       "4      9969                     Gintama&#039;   \n",
       "\n",
       "                                               genre   type episodes  rating  \\\n",
       "0               Drama, Romance, School, Supernatural  Movie        1    9.37   \n",
       "1  Action, Adventure, Drama, Fantasy, Magic, Mili...     TV       64    9.26   \n",
       "2  Action, Comedy, Historical, Parody, Samurai, S...     TV       51    9.25   \n",
       "3                                   Sci-Fi, Thriller     TV       24    9.17   \n",
       "4  Action, Comedy, Historical, Parody, Samurai, S...     TV       51    9.16   \n",
       "\n",
       "   members  \n",
       "0   200630  \n",
       "1   793665  \n",
       "2   114262  \n",
       "3   673572  \n",
       "4   151266  "
      ],
      "text/html": "<div>\n<style scoped>\n    .dataframe tbody tr th:only-of-type {\n        vertical-align: middle;\n    }\n\n    .dataframe tbody tr th {\n        vertical-align: top;\n    }\n\n    .dataframe thead th {\n        text-align: right;\n    }\n</style>\n<table border=\"1\" class=\"dataframe\">\n  <thead>\n    <tr style=\"text-align: right;\">\n      <th></th>\n      <th>anime_id</th>\n      <th>name</th>\n      <th>genre</th>\n      <th>type</th>\n      <th>episodes</th>\n      <th>rating</th>\n      <th>members</th>\n    </tr>\n  </thead>\n  <tbody>\n    <tr>\n      <th>0</th>\n      <td>32281</td>\n      <td>Kimi no Na wa.</td>\n      <td>Drama, Romance, School, Supernatural</td>\n      <td>Movie</td>\n      <td>1</td>\n      <td>9.37</td>\n      <td>200630</td>\n    </tr>\n    <tr>\n      <th>1</th>\n      <td>5114</td>\n      <td>Fullmetal Alchemist: Brotherhood</td>\n      <td>Action, Adventure, Drama, Fantasy, Magic, Mili...</td>\n      <td>TV</td>\n      <td>64</td>\n      <td>9.26</td>\n      <td>793665</td>\n    </tr>\n    <tr>\n      <th>2</th>\n      <td>28977</td>\n      <td>Gintama°</td>\n      <td>Action, Comedy, Historical, Parody, Samurai, S...</td>\n      <td>TV</td>\n      <td>51</td>\n      <td>9.25</td>\n      <td>114262</td>\n    </tr>\n    <tr>\n      <th>3</th>\n      <td>9253</td>\n      <td>Steins;Gate</td>\n      <td>Sci-Fi, Thriller</td>\n      <td>TV</td>\n      <td>24</td>\n      <td>9.17</td>\n      <td>673572</td>\n    </tr>\n    <tr>\n      <th>4</th>\n      <td>9969</td>\n      <td>Gintama&amp;#039;</td>\n      <td>Action, Comedy, Historical, Parody, Samurai, S...</td>\n      <td>TV</td>\n      <td>51</td>\n      <td>9.16</td>\n      <td>151266</td>\n    </tr>\n  </tbody>\n</table>\n</div>"
     },
     "metadata": {},
     "execution_count": 41
    }
   ],
   "source": [
    "df = pd.read_csv('anime.csv')\n",
    "df.head()"
   ]
  },
  {
   "source": [
    "## Dataset Content  \n",
    "\n",
    "1. anime_id  \n",
    "Kode unik dari myanimelist.net untuk mengidentifikasi anime  \n",
    "\n",
    "2. name  \n",
    "Nama anime\n",
    "\n",
    "3. genre\n",
    "Genre anime yang dipisahkan oleh koma  \n",
    "\n",
    "4. type  \n",
    "Tipe atau jenis anime (movie, TV, OVA, dll)\n",
    "\n",
    "5. episodes\n",
    "Jumlah episode anime  \n",
    "\n",
    "6. rating  \n",
    "Rating rata-rata yang diberikan user  \n",
    "\n",
    "7. members  \n",
    "Jumlah anggota komunitas anime"
   ],
   "cell_type": "markdown",
   "metadata": {}
  },
  {
   "source": [
    "---"
   ],
   "cell_type": "markdown",
   "metadata": {}
  },
  {
   "source": [
    "# Preprocessing"
   ],
   "cell_type": "markdown",
   "metadata": {}
  },
  {
   "cell_type": "code",
   "execution_count": 42,
   "metadata": {},
   "outputs": [
    {
     "output_type": "execute_result",
     "data": {
      "text/plain": [
       "anime_id      0\n",
       "name          0\n",
       "genre        62\n",
       "type         25\n",
       "episodes      0\n",
       "rating      230\n",
       "members       0\n",
       "dtype: int64"
      ]
     },
     "metadata": {},
     "execution_count": 42
    }
   ],
   "source": [
    "df.isna().sum()"
   ]
  },
  {
   "cell_type": "code",
   "execution_count": 43,
   "metadata": {},
   "outputs": [],
   "source": [
    "df = df.dropna().reset_index(drop=True)"
   ]
  },
  {
   "source": [
    "---"
   ],
   "cell_type": "markdown",
   "metadata": {}
  },
  {
   "source": [
    "# Content Based Recommendation System\n",
    "\n",
    "Membuat rekomendasi berdasarkan kemiripan profil item, misalnya; judul, genre, tahun rilis ataupun authornya. Pada project ini, akan dibuat rekomendasi berdasarkan kemiripan genre anime.\n",
    "\n",
    "Ada dua metode content based recommendation system yang akan dipakai, yaitu:\n",
    "- similiarity measure : mengukur kemiripan antar item dengan metode cosine similarity\n",
    "- content based filtering one user : memanfaatkan sejumlah profil item"
   ],
   "cell_type": "markdown",
   "metadata": {}
  },
  {
   "source": [
    "# Cosine Similarity\n",
    "\n",
    "Recommendation system untuk user berdasarkan kemiripan anime yang disuka\n",
    "\n",
    "Bagaimana Cosine Similarity bekerja?\n",
    "\n",
    "![cosine.png](cosine.png)    \n",
    "\n",
    "Katakan lah kita punya empat film dan kita hanya ambil dua genre agar dapat divisualisasikan bagaimana cosine similarity bekerja. Kita plotkan comedy pada sumbu x dan action pada sumbu y. Kita anggap posisi (0,0) sebagai titik pusat lalu kita posisikan masing-masing film sesuai dengan koordinatnya dan kita tarik garis lurus dari titik pusat ke masing-masing film. **Sudut yang terbentuk antara dua film mencerminkan seberapa mirip kedua film tersebut**. **Semakin kecil sudut semakin mirip pula filmnya dan jika dempet artinya kedua film sama persis dari segi konten**. Jika garis antara dua film membentuk sudut siku-siku (90 deg.), maka film itu jelas berbeda.  \n",
    "\n",
    "![image.png](cosine2.png)  \n",
    "\n",
    "Pada kenyataannya genre yang digunakan sebagai profil tidak hanya dua, ada lebih daripada itu. Sekarang kita gunakan data yang lebih realistis, dengan daftar film yang masih sama tetapi variasi genre yang lebih banyak.  \n",
    "\n",
    "Kita akan gunakan formula sebagai berikut dimana x adalah nilai dari konten suatu item dan y adalah nilai atribut-atribut item lainnya. **Nilai dari cosine similarity berkisar antara 0 hingga 1**. **Nilai 1 artinya dua item yang dibandingkan memiliki nilai konten yang sama persis dan nilai 0 artinya dua item yang dibandingkan jelas berbeda**.\n",
    "\n",
    "*data di atas hanya ilustrasi*"
   ],
   "cell_type": "markdown",
   "metadata": {}
  },
  {
   "cell_type": "code",
   "execution_count": 44,
   "metadata": {},
   "outputs": [],
   "source": [
    "# memecah kolom genre\n",
    "cvr = CountVectorizer(tokenizer=lambda x:x.split(', '))\n",
    "\n",
    "genre = cvr.fit_transform(df['genre'])"
   ]
  },
  {
   "cell_type": "code",
   "execution_count": 45,
   "metadata": {},
   "outputs": [
    {
     "output_type": "execute_result",
     "data": {
      "text/plain": [
       "   action  adventure  cars  comedy  dementia  demons  drama  ecchi  fantasy  \\\n",
       "0       0          0     0       0         0       0      1      0        0   \n",
       "1       1          1     0       0         0       0      1      0        1   \n",
       "2       1          0     0       1         0       0      0      0        0   \n",
       "3       0          0     0       0         0       0      0      0        0   \n",
       "4       1          0     0       1         0       0      0      0        0   \n",
       "\n",
       "   game  ...  shounen ai  slice of life  space  sports  super power  \\\n",
       "0     0  ...           0              0      0       0            0   \n",
       "1     0  ...           0              0      0       0            0   \n",
       "2     0  ...           0              0      0       0            0   \n",
       "3     0  ...           0              0      0       0            0   \n",
       "4     0  ...           0              0      0       0            0   \n",
       "\n",
       "   supernatural  thriller  vampire  yaoi  yuri  \n",
       "0             1         0        0     0     0  \n",
       "1             0         0        0     0     0  \n",
       "2             0         0        0     0     0  \n",
       "3             0         1        0     0     0  \n",
       "4             0         0        0     0     0  \n",
       "\n",
       "[5 rows x 43 columns]"
      ],
      "text/html": "<div>\n<style scoped>\n    .dataframe tbody tr th:only-of-type {\n        vertical-align: middle;\n    }\n\n    .dataframe tbody tr th {\n        vertical-align: top;\n    }\n\n    .dataframe thead th {\n        text-align: right;\n    }\n</style>\n<table border=\"1\" class=\"dataframe\">\n  <thead>\n    <tr style=\"text-align: right;\">\n      <th></th>\n      <th>action</th>\n      <th>adventure</th>\n      <th>cars</th>\n      <th>comedy</th>\n      <th>dementia</th>\n      <th>demons</th>\n      <th>drama</th>\n      <th>ecchi</th>\n      <th>fantasy</th>\n      <th>game</th>\n      <th>...</th>\n      <th>shounen ai</th>\n      <th>slice of life</th>\n      <th>space</th>\n      <th>sports</th>\n      <th>super power</th>\n      <th>supernatural</th>\n      <th>thriller</th>\n      <th>vampire</th>\n      <th>yaoi</th>\n      <th>yuri</th>\n    </tr>\n  </thead>\n  <tbody>\n    <tr>\n      <th>0</th>\n      <td>0</td>\n      <td>0</td>\n      <td>0</td>\n      <td>0</td>\n      <td>0</td>\n      <td>0</td>\n      <td>1</td>\n      <td>0</td>\n      <td>0</td>\n      <td>0</td>\n      <td>...</td>\n      <td>0</td>\n      <td>0</td>\n      <td>0</td>\n      <td>0</td>\n      <td>0</td>\n      <td>1</td>\n      <td>0</td>\n      <td>0</td>\n      <td>0</td>\n      <td>0</td>\n    </tr>\n    <tr>\n      <th>1</th>\n      <td>1</td>\n      <td>1</td>\n      <td>0</td>\n      <td>0</td>\n      <td>0</td>\n      <td>0</td>\n      <td>1</td>\n      <td>0</td>\n      <td>1</td>\n      <td>0</td>\n      <td>...</td>\n      <td>0</td>\n      <td>0</td>\n      <td>0</td>\n      <td>0</td>\n      <td>0</td>\n      <td>0</td>\n      <td>0</td>\n      <td>0</td>\n      <td>0</td>\n      <td>0</td>\n    </tr>\n    <tr>\n      <th>2</th>\n      <td>1</td>\n      <td>0</td>\n      <td>0</td>\n      <td>1</td>\n      <td>0</td>\n      <td>0</td>\n      <td>0</td>\n      <td>0</td>\n      <td>0</td>\n      <td>0</td>\n      <td>...</td>\n      <td>0</td>\n      <td>0</td>\n      <td>0</td>\n      <td>0</td>\n      <td>0</td>\n      <td>0</td>\n      <td>0</td>\n      <td>0</td>\n      <td>0</td>\n      <td>0</td>\n    </tr>\n    <tr>\n      <th>3</th>\n      <td>0</td>\n      <td>0</td>\n      <td>0</td>\n      <td>0</td>\n      <td>0</td>\n      <td>0</td>\n      <td>0</td>\n      <td>0</td>\n      <td>0</td>\n      <td>0</td>\n      <td>...</td>\n      <td>0</td>\n      <td>0</td>\n      <td>0</td>\n      <td>0</td>\n      <td>0</td>\n      <td>0</td>\n      <td>1</td>\n      <td>0</td>\n      <td>0</td>\n      <td>0</td>\n    </tr>\n    <tr>\n      <th>4</th>\n      <td>1</td>\n      <td>0</td>\n      <td>0</td>\n      <td>1</td>\n      <td>0</td>\n      <td>0</td>\n      <td>0</td>\n      <td>0</td>\n      <td>0</td>\n      <td>0</td>\n      <td>...</td>\n      <td>0</td>\n      <td>0</td>\n      <td>0</td>\n      <td>0</td>\n      <td>0</td>\n      <td>0</td>\n      <td>0</td>\n      <td>0</td>\n      <td>0</td>\n      <td>0</td>\n    </tr>\n  </tbody>\n</table>\n<p>5 rows × 43 columns</p>\n</div>"
     },
     "metadata": {},
     "execution_count": 45
    }
   ],
   "source": [
    "# membuat dataframe berdasarkan pecahan kolom genre\n",
    "genre_name = pd.DataFrame(genre.toarray(), columns=cvr.get_feature_names())\n",
    "genre_name.head()"
   ]
  },
  {
   "cell_type": "code",
   "execution_count": 50,
   "metadata": {},
   "outputs": [
    {
     "output_type": "execute_result",
     "data": {
      "text/plain": [
       "                               name  action  adventure  cars  comedy  \\\n",
       "0                    Kimi no Na wa.       0          0     0       0   \n",
       "1  Fullmetal Alchemist: Brotherhood       1          1     0       0   \n",
       "2                          Gintama°       1          0     0       1   \n",
       "3                       Steins;Gate       0          0     0       0   \n",
       "4                     Gintama&#039;       1          0     0       1   \n",
       "\n",
       "   dementia  demons  drama  ecchi  fantasy  ...  shounen ai  slice of life  \\\n",
       "0         0       0      1      0        0  ...           0              0   \n",
       "1         0       0      1      0        1  ...           0              0   \n",
       "2         0       0      0      0        0  ...           0              0   \n",
       "3         0       0      0      0        0  ...           0              0   \n",
       "4         0       0      0      0        0  ...           0              0   \n",
       "\n",
       "   space  sports  super power  supernatural  thriller  vampire  yaoi  yuri  \n",
       "0      0       0            0             1         0        0     0     0  \n",
       "1      0       0            0             0         0        0     0     0  \n",
       "2      0       0            0             0         0        0     0     0  \n",
       "3      0       0            0             0         1        0     0     0  \n",
       "4      0       0            0             0         0        0     0     0  \n",
       "\n",
       "[5 rows x 44 columns]"
      ],
      "text/html": "<div>\n<style scoped>\n    .dataframe tbody tr th:only-of-type {\n        vertical-align: middle;\n    }\n\n    .dataframe tbody tr th {\n        vertical-align: top;\n    }\n\n    .dataframe thead th {\n        text-align: right;\n    }\n</style>\n<table border=\"1\" class=\"dataframe\">\n  <thead>\n    <tr style=\"text-align: right;\">\n      <th></th>\n      <th>name</th>\n      <th>action</th>\n      <th>adventure</th>\n      <th>cars</th>\n      <th>comedy</th>\n      <th>dementia</th>\n      <th>demons</th>\n      <th>drama</th>\n      <th>ecchi</th>\n      <th>fantasy</th>\n      <th>...</th>\n      <th>shounen ai</th>\n      <th>slice of life</th>\n      <th>space</th>\n      <th>sports</th>\n      <th>super power</th>\n      <th>supernatural</th>\n      <th>thriller</th>\n      <th>vampire</th>\n      <th>yaoi</th>\n      <th>yuri</th>\n    </tr>\n  </thead>\n  <tbody>\n    <tr>\n      <th>0</th>\n      <td>Kimi no Na wa.</td>\n      <td>0</td>\n      <td>0</td>\n      <td>0</td>\n      <td>0</td>\n      <td>0</td>\n      <td>0</td>\n      <td>1</td>\n      <td>0</td>\n      <td>0</td>\n      <td>...</td>\n      <td>0</td>\n      <td>0</td>\n      <td>0</td>\n      <td>0</td>\n      <td>0</td>\n      <td>1</td>\n      <td>0</td>\n      <td>0</td>\n      <td>0</td>\n      <td>0</td>\n    </tr>\n    <tr>\n      <th>1</th>\n      <td>Fullmetal Alchemist: Brotherhood</td>\n      <td>1</td>\n      <td>1</td>\n      <td>0</td>\n      <td>0</td>\n      <td>0</td>\n      <td>0</td>\n      <td>1</td>\n      <td>0</td>\n      <td>1</td>\n      <td>...</td>\n      <td>0</td>\n      <td>0</td>\n      <td>0</td>\n      <td>0</td>\n      <td>0</td>\n      <td>0</td>\n      <td>0</td>\n      <td>0</td>\n      <td>0</td>\n      <td>0</td>\n    </tr>\n    <tr>\n      <th>2</th>\n      <td>Gintama°</td>\n      <td>1</td>\n      <td>0</td>\n      <td>0</td>\n      <td>1</td>\n      <td>0</td>\n      <td>0</td>\n      <td>0</td>\n      <td>0</td>\n      <td>0</td>\n      <td>...</td>\n      <td>0</td>\n      <td>0</td>\n      <td>0</td>\n      <td>0</td>\n      <td>0</td>\n      <td>0</td>\n      <td>0</td>\n      <td>0</td>\n      <td>0</td>\n      <td>0</td>\n    </tr>\n    <tr>\n      <th>3</th>\n      <td>Steins;Gate</td>\n      <td>0</td>\n      <td>0</td>\n      <td>0</td>\n      <td>0</td>\n      <td>0</td>\n      <td>0</td>\n      <td>0</td>\n      <td>0</td>\n      <td>0</td>\n      <td>...</td>\n      <td>0</td>\n      <td>0</td>\n      <td>0</td>\n      <td>0</td>\n      <td>0</td>\n      <td>0</td>\n      <td>1</td>\n      <td>0</td>\n      <td>0</td>\n      <td>0</td>\n    </tr>\n    <tr>\n      <th>4</th>\n      <td>Gintama&amp;#039;</td>\n      <td>1</td>\n      <td>0</td>\n      <td>0</td>\n      <td>1</td>\n      <td>0</td>\n      <td>0</td>\n      <td>0</td>\n      <td>0</td>\n      <td>0</td>\n      <td>...</td>\n      <td>0</td>\n      <td>0</td>\n      <td>0</td>\n      <td>0</td>\n      <td>0</td>\n      <td>0</td>\n      <td>0</td>\n      <td>0</td>\n      <td>0</td>\n      <td>0</td>\n    </tr>\n  </tbody>\n</table>\n<p>5 rows × 44 columns</p>\n</div>"
     },
     "metadata": {},
     "execution_count": 50
    }
   ],
   "source": [
    "# menggabungkan nama anime dengan pecahan kolom genre\n",
    "df_genre = pd.concat([df['name'],genre_name], axis=1)\n",
    "df_genre.head()"
   ]
  },
  {
   "cell_type": "code",
   "execution_count": 58,
   "metadata": {},
   "outputs": [],
   "source": [
    "# anime recommender menggunakan anime Naruto\n",
    "cos_score = cosine_similarity(df_genre[df_genre['name']=='Naruto'].drop('name', axis=1), df_genre.drop('name', axis=1))\n",
    "df_cos_score = pd.DataFrame(cos_score, index=['CosScore']).T\n",
    "\n",
    "# menggabungkan cosine score menggunakan anime naruto dengan df awal\n",
    "df_anime_cos = pd.concat([df['name'], df_cos_score], axis=1)"
   ]
  },
  {
   "cell_type": "code",
   "execution_count": 61,
   "metadata": {},
   "outputs": [
    {
     "output_type": "execute_result",
     "data": {
      "text/plain": [
       "                                                   name  CosScore\n",
       "1103  Boruto: Naruto the Movie - Naruto ga Hokage ni...       1.0\n",
       "1343                                        Naruto x UT       1.0\n",
       "486                            Boruto: Naruto the Movie       1.0\n",
       "615                                  Naruto: Shippuuden       1.0\n",
       "2996  Naruto Soyokazeden Movie: Naruto to Mashin to ...       1.0"
      ],
      "text/html": "<div>\n<style scoped>\n    .dataframe tbody tr th:only-of-type {\n        vertical-align: middle;\n    }\n\n    .dataframe tbody tr th {\n        vertical-align: top;\n    }\n\n    .dataframe thead th {\n        text-align: right;\n    }\n</style>\n<table border=\"1\" class=\"dataframe\">\n  <thead>\n    <tr style=\"text-align: right;\">\n      <th></th>\n      <th>name</th>\n      <th>CosScore</th>\n    </tr>\n  </thead>\n  <tbody>\n    <tr>\n      <th>1103</th>\n      <td>Boruto: Naruto the Movie - Naruto ga Hokage ni...</td>\n      <td>1.0</td>\n    </tr>\n    <tr>\n      <th>1343</th>\n      <td>Naruto x UT</td>\n      <td>1.0</td>\n    </tr>\n    <tr>\n      <th>486</th>\n      <td>Boruto: Naruto the Movie</td>\n      <td>1.0</td>\n    </tr>\n    <tr>\n      <th>615</th>\n      <td>Naruto: Shippuuden</td>\n      <td>1.0</td>\n    </tr>\n    <tr>\n      <th>2996</th>\n      <td>Naruto Soyokazeden Movie: Naruto to Mashin to ...</td>\n      <td>1.0</td>\n    </tr>\n  </tbody>\n</table>\n</div>"
     },
     "metadata": {},
     "execution_count": 61
    }
   ],
   "source": [
    "# melihat 5 anime dengan cosine score tertinggi\n",
    "df_anime_cos[df_anime_cos['name']!='Naruto'].sort_values('CosScore', ascending=False).head()"
   ]
  },
  {
   "source": [
    "# membuat function agar lebih singkat\n",
    "def recommend():\n",
    "    anime = input('Masukkan judul anime yang kamu suka: ')\n",
    "\n",
    "    cvr = CountVectorizer(tokenizer=lambda x:x.split(', '))\n",
    "    genre = cvr.fit_transform(df['genre'])\n",
    "\n",
    "    genre_name = pd.DataFrame(genre.toarray(), columns=cvr.get_feature_names())\n",
    "    df_genre = pd.concat([df['name'],genre_name], axis=1)\n",
    "\n",
    "    cos_score = cosine_similarity(df_genre[df_genre['name']==anime].drop('name', axis=1), df_genre.drop('name', axis=1))\n",
    "    df_cos_score = pd.DataFrame(cos_score, index=['CosScore']).T\n",
    "    df_anime_cos = pd.concat([df['name'], df_cos_score], axis=1)\n",
    "\n",
    "    return df_anime_cos[df_anime_cos['name']!=anime].sort_values('CosScore', ascending=False).head()"
   ],
   "cell_type": "code",
   "metadata": {},
   "execution_count": 62,
   "outputs": []
  },
  {
   "cell_type": "code",
   "execution_count": 65,
   "metadata": {},
   "outputs": [
    {
     "output_type": "execute_result",
     "data": {
      "text/plain": [
       "                                                   name  CosScore\n",
       "1103  Boruto: Naruto the Movie - Naruto ga Hokage ni...       1.0\n",
       "1343                                        Naruto x UT       1.0\n",
       "486                            Boruto: Naruto the Movie       1.0\n",
       "615                                  Naruto: Shippuuden       1.0\n",
       "2996  Naruto Soyokazeden Movie: Naruto to Mashin to ...       1.0"
      ],
      "text/html": "<div>\n<style scoped>\n    .dataframe tbody tr th:only-of-type {\n        vertical-align: middle;\n    }\n\n    .dataframe tbody tr th {\n        vertical-align: top;\n    }\n\n    .dataframe thead th {\n        text-align: right;\n    }\n</style>\n<table border=\"1\" class=\"dataframe\">\n  <thead>\n    <tr style=\"text-align: right;\">\n      <th></th>\n      <th>name</th>\n      <th>CosScore</th>\n    </tr>\n  </thead>\n  <tbody>\n    <tr>\n      <th>1103</th>\n      <td>Boruto: Naruto the Movie - Naruto ga Hokage ni...</td>\n      <td>1.0</td>\n    </tr>\n    <tr>\n      <th>1343</th>\n      <td>Naruto x UT</td>\n      <td>1.0</td>\n    </tr>\n    <tr>\n      <th>486</th>\n      <td>Boruto: Naruto the Movie</td>\n      <td>1.0</td>\n    </tr>\n    <tr>\n      <th>615</th>\n      <td>Naruto: Shippuuden</td>\n      <td>1.0</td>\n    </tr>\n    <tr>\n      <th>2996</th>\n      <td>Naruto Soyokazeden Movie: Naruto to Mashin to ...</td>\n      <td>1.0</td>\n    </tr>\n  </tbody>\n</table>\n</div>"
     },
     "metadata": {},
     "execution_count": 65
    }
   ],
   "source": [
    "recommend()"
   ]
  },
  {
   "source": [
    "Dari hasil cosine similarity, anime-anime yang mempunyai kesamaan dengan anime berjudul Naruto dapat dilihat pada table di atas"
   ],
   "cell_type": "markdown",
   "metadata": {}
  },
  {
   "source": [
    "# Content Based Filtering One User\n",
    "\n",
    "Recommendation system untuk user berdasarkan genre dan rating anime yang disukai \n",
    "\n",
    "Bagaimana Content Based Filtering One User bekerja?  \n",
    "\n",
    "![image.png](content.png)  \n",
    "\n",
    "Sebut saja user 1, user tersebut telah memberikan rating kepada sejumlah film dan ada sejumlah film yang belum ditonton sebelumnya. Kita ingin mengetahui film apa yang ingin dia tonton selanjutnya.\n",
    "\n",
    "![image.png](content2.png)\n",
    "\n",
    "![image.png](content3.png)  \n",
    "\n",
    "\n",
    "*data di atas hanya ilustrasi*"
   ],
   "cell_type": "markdown",
   "metadata": {}
  },
  {
   "cell_type": "code",
   "execution_count": 66,
   "metadata": {},
   "outputs": [],
   "source": [
    "# memecah kolom genre\n",
    "cvr = CountVectorizer(tokenizer=lambda x:x.split(', '))\n",
    "\n",
    "genre = cvr.fit_transform(df['genre'])"
   ]
  },
  {
   "cell_type": "code",
   "execution_count": 67,
   "metadata": {},
   "outputs": [
    {
     "output_type": "execute_result",
     "data": {
      "text/plain": [
       "   action  adventure  cars  comedy  dementia  demons  drama  ecchi  fantasy  \\\n",
       "0       0          0     0       0         0       0      1      0        0   \n",
       "1       1          1     0       0         0       0      1      0        1   \n",
       "2       1          0     0       1         0       0      0      0        0   \n",
       "3       0          0     0       0         0       0      0      0        0   \n",
       "4       1          0     0       1         0       0      0      0        0   \n",
       "\n",
       "   game  ...  shounen ai  slice of life  space  sports  super power  \\\n",
       "0     0  ...           0              0      0       0            0   \n",
       "1     0  ...           0              0      0       0            0   \n",
       "2     0  ...           0              0      0       0            0   \n",
       "3     0  ...           0              0      0       0            0   \n",
       "4     0  ...           0              0      0       0            0   \n",
       "\n",
       "   supernatural  thriller  vampire  yaoi  yuri  \n",
       "0             1         0        0     0     0  \n",
       "1             0         0        0     0     0  \n",
       "2             0         0        0     0     0  \n",
       "3             0         1        0     0     0  \n",
       "4             0         0        0     0     0  \n",
       "\n",
       "[5 rows x 43 columns]"
      ],
      "text/html": "<div>\n<style scoped>\n    .dataframe tbody tr th:only-of-type {\n        vertical-align: middle;\n    }\n\n    .dataframe tbody tr th {\n        vertical-align: top;\n    }\n\n    .dataframe thead th {\n        text-align: right;\n    }\n</style>\n<table border=\"1\" class=\"dataframe\">\n  <thead>\n    <tr style=\"text-align: right;\">\n      <th></th>\n      <th>action</th>\n      <th>adventure</th>\n      <th>cars</th>\n      <th>comedy</th>\n      <th>dementia</th>\n      <th>demons</th>\n      <th>drama</th>\n      <th>ecchi</th>\n      <th>fantasy</th>\n      <th>game</th>\n      <th>...</th>\n      <th>shounen ai</th>\n      <th>slice of life</th>\n      <th>space</th>\n      <th>sports</th>\n      <th>super power</th>\n      <th>supernatural</th>\n      <th>thriller</th>\n      <th>vampire</th>\n      <th>yaoi</th>\n      <th>yuri</th>\n    </tr>\n  </thead>\n  <tbody>\n    <tr>\n      <th>0</th>\n      <td>0</td>\n      <td>0</td>\n      <td>0</td>\n      <td>0</td>\n      <td>0</td>\n      <td>0</td>\n      <td>1</td>\n      <td>0</td>\n      <td>0</td>\n      <td>0</td>\n      <td>...</td>\n      <td>0</td>\n      <td>0</td>\n      <td>0</td>\n      <td>0</td>\n      <td>0</td>\n      <td>1</td>\n      <td>0</td>\n      <td>0</td>\n      <td>0</td>\n      <td>0</td>\n    </tr>\n    <tr>\n      <th>1</th>\n      <td>1</td>\n      <td>1</td>\n      <td>0</td>\n      <td>0</td>\n      <td>0</td>\n      <td>0</td>\n      <td>1</td>\n      <td>0</td>\n      <td>1</td>\n      <td>0</td>\n      <td>...</td>\n      <td>0</td>\n      <td>0</td>\n      <td>0</td>\n      <td>0</td>\n      <td>0</td>\n      <td>0</td>\n      <td>0</td>\n      <td>0</td>\n      <td>0</td>\n      <td>0</td>\n    </tr>\n    <tr>\n      <th>2</th>\n      <td>1</td>\n      <td>0</td>\n      <td>0</td>\n      <td>1</td>\n      <td>0</td>\n      <td>0</td>\n      <td>0</td>\n      <td>0</td>\n      <td>0</td>\n      <td>0</td>\n      <td>...</td>\n      <td>0</td>\n      <td>0</td>\n      <td>0</td>\n      <td>0</td>\n      <td>0</td>\n      <td>0</td>\n      <td>0</td>\n      <td>0</td>\n      <td>0</td>\n      <td>0</td>\n    </tr>\n    <tr>\n      <th>3</th>\n      <td>0</td>\n      <td>0</td>\n      <td>0</td>\n      <td>0</td>\n      <td>0</td>\n      <td>0</td>\n      <td>0</td>\n      <td>0</td>\n      <td>0</td>\n      <td>0</td>\n      <td>...</td>\n      <td>0</td>\n      <td>0</td>\n      <td>0</td>\n      <td>0</td>\n      <td>0</td>\n      <td>0</td>\n      <td>1</td>\n      <td>0</td>\n      <td>0</td>\n      <td>0</td>\n    </tr>\n    <tr>\n      <th>4</th>\n      <td>1</td>\n      <td>0</td>\n      <td>0</td>\n      <td>1</td>\n      <td>0</td>\n      <td>0</td>\n      <td>0</td>\n      <td>0</td>\n      <td>0</td>\n      <td>0</td>\n      <td>...</td>\n      <td>0</td>\n      <td>0</td>\n      <td>0</td>\n      <td>0</td>\n      <td>0</td>\n      <td>0</td>\n      <td>0</td>\n      <td>0</td>\n      <td>0</td>\n      <td>0</td>\n    </tr>\n  </tbody>\n</table>\n<p>5 rows × 43 columns</p>\n</div>"
     },
     "metadata": {},
     "execution_count": 67
    }
   ],
   "source": [
    "# membuat dataframe berdasarkan pecahan kolom genre\n",
    "genre_name = pd.DataFrame(genre.toarray(), columns=cvr.get_feature_names())\n",
    "genre_name.head()"
   ]
  },
  {
   "cell_type": "code",
   "execution_count": 68,
   "metadata": {},
   "outputs": [
    {
     "output_type": "execute_result",
     "data": {
      "text/plain": [
       "                               name  rating  action  adventure  cars  comedy  \\\n",
       "0                    Kimi no Na wa.    9.37       0          0     0       0   \n",
       "1  Fullmetal Alchemist: Brotherhood    9.26       1          1     0       0   \n",
       "2                          Gintama°    9.25       1          0     0       1   \n",
       "3                       Steins;Gate    9.17       0          0     0       0   \n",
       "4                     Gintama&#039;    9.16       1          0     0       1   \n",
       "\n",
       "   dementia  demons  drama  ecchi  ...  shounen ai  slice of life  space  \\\n",
       "0         0       0      1      0  ...           0              0      0   \n",
       "1         0       0      1      0  ...           0              0      0   \n",
       "2         0       0      0      0  ...           0              0      0   \n",
       "3         0       0      0      0  ...           0              0      0   \n",
       "4         0       0      0      0  ...           0              0      0   \n",
       "\n",
       "   sports  super power  supernatural  thriller  vampire  yaoi  yuri  \n",
       "0       0            0             1         0        0     0     0  \n",
       "1       0            0             0         0        0     0     0  \n",
       "2       0            0             0         0        0     0     0  \n",
       "3       0            0             0         1        0     0     0  \n",
       "4       0            0             0         0        0     0     0  \n",
       "\n",
       "[5 rows x 45 columns]"
      ],
      "text/html": "<div>\n<style scoped>\n    .dataframe tbody tr th:only-of-type {\n        vertical-align: middle;\n    }\n\n    .dataframe tbody tr th {\n        vertical-align: top;\n    }\n\n    .dataframe thead th {\n        text-align: right;\n    }\n</style>\n<table border=\"1\" class=\"dataframe\">\n  <thead>\n    <tr style=\"text-align: right;\">\n      <th></th>\n      <th>name</th>\n      <th>rating</th>\n      <th>action</th>\n      <th>adventure</th>\n      <th>cars</th>\n      <th>comedy</th>\n      <th>dementia</th>\n      <th>demons</th>\n      <th>drama</th>\n      <th>ecchi</th>\n      <th>...</th>\n      <th>shounen ai</th>\n      <th>slice of life</th>\n      <th>space</th>\n      <th>sports</th>\n      <th>super power</th>\n      <th>supernatural</th>\n      <th>thriller</th>\n      <th>vampire</th>\n      <th>yaoi</th>\n      <th>yuri</th>\n    </tr>\n  </thead>\n  <tbody>\n    <tr>\n      <th>0</th>\n      <td>Kimi no Na wa.</td>\n      <td>9.37</td>\n      <td>0</td>\n      <td>0</td>\n      <td>0</td>\n      <td>0</td>\n      <td>0</td>\n      <td>0</td>\n      <td>1</td>\n      <td>0</td>\n      <td>...</td>\n      <td>0</td>\n      <td>0</td>\n      <td>0</td>\n      <td>0</td>\n      <td>0</td>\n      <td>1</td>\n      <td>0</td>\n      <td>0</td>\n      <td>0</td>\n      <td>0</td>\n    </tr>\n    <tr>\n      <th>1</th>\n      <td>Fullmetal Alchemist: Brotherhood</td>\n      <td>9.26</td>\n      <td>1</td>\n      <td>1</td>\n      <td>0</td>\n      <td>0</td>\n      <td>0</td>\n      <td>0</td>\n      <td>1</td>\n      <td>0</td>\n      <td>...</td>\n      <td>0</td>\n      <td>0</td>\n      <td>0</td>\n      <td>0</td>\n      <td>0</td>\n      <td>0</td>\n      <td>0</td>\n      <td>0</td>\n      <td>0</td>\n      <td>0</td>\n    </tr>\n    <tr>\n      <th>2</th>\n      <td>Gintama°</td>\n      <td>9.25</td>\n      <td>1</td>\n      <td>0</td>\n      <td>0</td>\n      <td>1</td>\n      <td>0</td>\n      <td>0</td>\n      <td>0</td>\n      <td>0</td>\n      <td>...</td>\n      <td>0</td>\n      <td>0</td>\n      <td>0</td>\n      <td>0</td>\n      <td>0</td>\n      <td>0</td>\n      <td>0</td>\n      <td>0</td>\n      <td>0</td>\n      <td>0</td>\n    </tr>\n    <tr>\n      <th>3</th>\n      <td>Steins;Gate</td>\n      <td>9.17</td>\n      <td>0</td>\n      <td>0</td>\n      <td>0</td>\n      <td>0</td>\n      <td>0</td>\n      <td>0</td>\n      <td>0</td>\n      <td>0</td>\n      <td>...</td>\n      <td>0</td>\n      <td>0</td>\n      <td>0</td>\n      <td>0</td>\n      <td>0</td>\n      <td>0</td>\n      <td>1</td>\n      <td>0</td>\n      <td>0</td>\n      <td>0</td>\n    </tr>\n    <tr>\n      <th>4</th>\n      <td>Gintama&amp;#039;</td>\n      <td>9.16</td>\n      <td>1</td>\n      <td>0</td>\n      <td>0</td>\n      <td>1</td>\n      <td>0</td>\n      <td>0</td>\n      <td>0</td>\n      <td>0</td>\n      <td>...</td>\n      <td>0</td>\n      <td>0</td>\n      <td>0</td>\n      <td>0</td>\n      <td>0</td>\n      <td>0</td>\n      <td>0</td>\n      <td>0</td>\n      <td>0</td>\n      <td>0</td>\n    </tr>\n  </tbody>\n</table>\n<p>5 rows × 45 columns</p>\n</div>"
     },
     "metadata": {},
     "execution_count": 68
    }
   ],
   "source": [
    "# menggabungkan nama dan rating anime dengan pecahan kolom genre\n",
    "df_rating_genre = pd.concat([df[['name','rating']],genre_name], axis=1)\n",
    "df_rating_genre.head()"
   ]
  },
  {
   "cell_type": "code",
   "execution_count": 70,
   "metadata": {},
   "outputs": [],
   "source": [
    "# anime recommender menggunakan anime Naruto, One Piece dan Dragon Ball\n",
    "df_rating = df_rating_genre[df_rating_genre['name'].isin(['Naruto','One Piece','Dragon Ball'])]"
   ]
  },
  {
   "cell_type": "code",
   "execution_count": 71,
   "metadata": {},
   "outputs": [
    {
     "output_type": "stream",
     "name": "stderr",
     "text": [
      "<ipython-input-71-0744d299fea6>:3: SettingWithCopyWarning: \nA value is trying to be set on a copy of a slice from a DataFrame.\nTry using .loc[row_indexer,col_indexer] = value instead\n\nSee the caveats in the documentation: https://pandas.pydata.org/pandas-docs/stable/user_guide/indexing.html#returning-a-view-versus-a-copy\n  df_rating[i] = df_rating['rating']*df_rating[i]\n"
     ]
    },
    {
     "output_type": "execute_result",
     "data": {
      "text/plain": [
       "            name  rating  action  adventure  cars  comedy  dementia  demons  \\\n",
       "74     One Piece    8.58    8.58       8.58   0.0    8.58       0.0     0.0   \n",
       "346  Dragon Ball    8.16    0.00       8.16   0.0    8.16       0.0     0.0   \n",
       "841       Naruto    7.81    7.81       0.00   0.0    7.81       0.0     0.0   \n",
       "\n",
       "     drama  ecchi  ...  shounen ai  slice of life  space  sports  super power  \\\n",
       "74    8.58    0.0  ...         0.0            0.0    0.0     0.0         8.58   \n",
       "346   0.00    0.0  ...         0.0            0.0    0.0     0.0         8.16   \n",
       "841   0.00    0.0  ...         0.0            0.0    0.0     0.0         7.81   \n",
       "\n",
       "     supernatural  thriller  vampire  yaoi  yuri  \n",
       "74            0.0       0.0      0.0   0.0   0.0  \n",
       "346           0.0       0.0      0.0   0.0   0.0  \n",
       "841           0.0       0.0      0.0   0.0   0.0  \n",
       "\n",
       "[3 rows x 45 columns]"
      ],
      "text/html": "<div>\n<style scoped>\n    .dataframe tbody tr th:only-of-type {\n        vertical-align: middle;\n    }\n\n    .dataframe tbody tr th {\n        vertical-align: top;\n    }\n\n    .dataframe thead th {\n        text-align: right;\n    }\n</style>\n<table border=\"1\" class=\"dataframe\">\n  <thead>\n    <tr style=\"text-align: right;\">\n      <th></th>\n      <th>name</th>\n      <th>rating</th>\n      <th>action</th>\n      <th>adventure</th>\n      <th>cars</th>\n      <th>comedy</th>\n      <th>dementia</th>\n      <th>demons</th>\n      <th>drama</th>\n      <th>ecchi</th>\n      <th>...</th>\n      <th>shounen ai</th>\n      <th>slice of life</th>\n      <th>space</th>\n      <th>sports</th>\n      <th>super power</th>\n      <th>supernatural</th>\n      <th>thriller</th>\n      <th>vampire</th>\n      <th>yaoi</th>\n      <th>yuri</th>\n    </tr>\n  </thead>\n  <tbody>\n    <tr>\n      <th>74</th>\n      <td>One Piece</td>\n      <td>8.58</td>\n      <td>8.58</td>\n      <td>8.58</td>\n      <td>0.0</td>\n      <td>8.58</td>\n      <td>0.0</td>\n      <td>0.0</td>\n      <td>8.58</td>\n      <td>0.0</td>\n      <td>...</td>\n      <td>0.0</td>\n      <td>0.0</td>\n      <td>0.0</td>\n      <td>0.0</td>\n      <td>8.58</td>\n      <td>0.0</td>\n      <td>0.0</td>\n      <td>0.0</td>\n      <td>0.0</td>\n      <td>0.0</td>\n    </tr>\n    <tr>\n      <th>346</th>\n      <td>Dragon Ball</td>\n      <td>8.16</td>\n      <td>0.00</td>\n      <td>8.16</td>\n      <td>0.0</td>\n      <td>8.16</td>\n      <td>0.0</td>\n      <td>0.0</td>\n      <td>0.00</td>\n      <td>0.0</td>\n      <td>...</td>\n      <td>0.0</td>\n      <td>0.0</td>\n      <td>0.0</td>\n      <td>0.0</td>\n      <td>8.16</td>\n      <td>0.0</td>\n      <td>0.0</td>\n      <td>0.0</td>\n      <td>0.0</td>\n      <td>0.0</td>\n    </tr>\n    <tr>\n      <th>841</th>\n      <td>Naruto</td>\n      <td>7.81</td>\n      <td>7.81</td>\n      <td>0.00</td>\n      <td>0.0</td>\n      <td>7.81</td>\n      <td>0.0</td>\n      <td>0.0</td>\n      <td>0.00</td>\n      <td>0.0</td>\n      <td>...</td>\n      <td>0.0</td>\n      <td>0.0</td>\n      <td>0.0</td>\n      <td>0.0</td>\n      <td>7.81</td>\n      <td>0.0</td>\n      <td>0.0</td>\n      <td>0.0</td>\n      <td>0.0</td>\n      <td>0.0</td>\n    </tr>\n  </tbody>\n</table>\n<p>3 rows × 45 columns</p>\n</div>"
     },
     "metadata": {},
     "execution_count": 71
    }
   ],
   "source": [
    "# menjumlahkan rating yang diberikan oleh user untuk setiap genre\n",
    "for i in cvr.get_feature_names():\n",
    "    df_rating[i] = df_rating['rating']*df_rating[i]\n",
    "\n",
    "df_rating"
   ]
  },
  {
   "cell_type": "code",
   "execution_count": 72,
   "metadata": {},
   "outputs": [
    {
     "output_type": "stream",
     "name": "stderr",
     "text": [
      "C:\\Users\\hapis\\anaconda3\\lib\\site-packages\\pandas\\core\\frame.py:3990: SettingWithCopyWarning: \nA value is trying to be set on a copy of a slice from a DataFrame\n\nSee the caveats in the documentation: https://pandas.pydata.org/pandas-docs/stable/user_guide/indexing.html#returning-a-view-versus-a-copy\n  return super().drop(\n"
     ]
    },
    {
     "output_type": "execute_result",
     "data": {
      "text/plain": [
       "action           0.110691\n",
       "adventure        0.113055\n",
       "cars             0.000000\n",
       "comedy           0.165800\n",
       "dementia         0.000000\n",
       "demons           0.000000\n",
       "drama            0.057946\n",
       "ecchi            0.000000\n",
       "fantasy          0.113055\n",
       "game             0.000000\n",
       "harem            0.000000\n",
       "hentai           0.000000\n",
       "historical       0.000000\n",
       "horror           0.000000\n",
       "josei            0.000000\n",
       "kids             0.000000\n",
       "magic            0.000000\n",
       "martial arts     0.107854\n",
       "mecha            0.000000\n",
       "military         0.000000\n",
       "music            0.000000\n",
       "mystery          0.000000\n",
       "parody           0.000000\n",
       "police           0.000000\n",
       "psychological    0.000000\n",
       "romance          0.000000\n",
       "samurai          0.000000\n",
       "school           0.000000\n",
       "sci-fi           0.000000\n",
       "seinen           0.000000\n",
       "shoujo           0.000000\n",
       "shoujo ai        0.000000\n",
       "shounen          0.165800\n",
       "shounen ai       0.000000\n",
       "slice of life    0.000000\n",
       "space            0.000000\n",
       "sports           0.000000\n",
       "super power      0.165800\n",
       "supernatural     0.000000\n",
       "thriller         0.000000\n",
       "vampire          0.000000\n",
       "yaoi             0.000000\n",
       "yuri             0.000000\n",
       "dtype: float64"
      ]
     },
     "metadata": {},
     "execution_count": 72
    }
   ],
   "source": [
    "# User Feature Vector - preferensi user terhadap konten yang ditonton\n",
    "df_rating.drop(['name','rating'], axis=1, inplace=True)\n",
    "\n",
    "anime_scoring = df_rating.sum()/df_rating.sum().sum()\n",
    "anime_scoring"
   ]
  },
  {
   "cell_type": "code",
   "execution_count": 76,
   "metadata": {},
   "outputs": [
    {
     "output_type": "execute_result",
     "data": {
      "text/plain": [
       "                               name  action  adventure  cars  comedy  \\\n",
       "0                    Kimi no Na wa.       0          0     0       0   \n",
       "1  Fullmetal Alchemist: Brotherhood       1          1     0       0   \n",
       "2                          Gintama°       1          0     0       1   \n",
       "3                       Steins;Gate       0          0     0       0   \n",
       "4                     Gintama&#039;       1          0     0       1   \n",
       "\n",
       "   dementia  demons  drama  ecchi  fantasy  ...  shounen ai  slice of life  \\\n",
       "0         0       0      1      0        0  ...           0              0   \n",
       "1         0       0      1      0        1  ...           0              0   \n",
       "2         0       0      0      0        0  ...           0              0   \n",
       "3         0       0      0      0        0  ...           0              0   \n",
       "4         0       0      0      0        0  ...           0              0   \n",
       "\n",
       "   space  sports  super power  supernatural  thriller  vampire  yaoi  yuri  \n",
       "0      0       0            0             1         0        0     0     0  \n",
       "1      0       0            0             0         0        0     0     0  \n",
       "2      0       0            0             0         0        0     0     0  \n",
       "3      0       0            0             0         1        0     0     0  \n",
       "4      0       0            0             0         0        0     0     0  \n",
       "\n",
       "[5 rows x 44 columns]"
      ],
      "text/html": "<div>\n<style scoped>\n    .dataframe tbody tr th:only-of-type {\n        vertical-align: middle;\n    }\n\n    .dataframe tbody tr th {\n        vertical-align: top;\n    }\n\n    .dataframe thead th {\n        text-align: right;\n    }\n</style>\n<table border=\"1\" class=\"dataframe\">\n  <thead>\n    <tr style=\"text-align: right;\">\n      <th></th>\n      <th>name</th>\n      <th>action</th>\n      <th>adventure</th>\n      <th>cars</th>\n      <th>comedy</th>\n      <th>dementia</th>\n      <th>demons</th>\n      <th>drama</th>\n      <th>ecchi</th>\n      <th>fantasy</th>\n      <th>...</th>\n      <th>shounen ai</th>\n      <th>slice of life</th>\n      <th>space</th>\n      <th>sports</th>\n      <th>super power</th>\n      <th>supernatural</th>\n      <th>thriller</th>\n      <th>vampire</th>\n      <th>yaoi</th>\n      <th>yuri</th>\n    </tr>\n  </thead>\n  <tbody>\n    <tr>\n      <th>0</th>\n      <td>Kimi no Na wa.</td>\n      <td>0</td>\n      <td>0</td>\n      <td>0</td>\n      <td>0</td>\n      <td>0</td>\n      <td>0</td>\n      <td>1</td>\n      <td>0</td>\n      <td>0</td>\n      <td>...</td>\n      <td>0</td>\n      <td>0</td>\n      <td>0</td>\n      <td>0</td>\n      <td>0</td>\n      <td>1</td>\n      <td>0</td>\n      <td>0</td>\n      <td>0</td>\n      <td>0</td>\n    </tr>\n    <tr>\n      <th>1</th>\n      <td>Fullmetal Alchemist: Brotherhood</td>\n      <td>1</td>\n      <td>1</td>\n      <td>0</td>\n      <td>0</td>\n      <td>0</td>\n      <td>0</td>\n      <td>1</td>\n      <td>0</td>\n      <td>1</td>\n      <td>...</td>\n      <td>0</td>\n      <td>0</td>\n      <td>0</td>\n      <td>0</td>\n      <td>0</td>\n      <td>0</td>\n      <td>0</td>\n      <td>0</td>\n      <td>0</td>\n      <td>0</td>\n    </tr>\n    <tr>\n      <th>2</th>\n      <td>Gintama°</td>\n      <td>1</td>\n      <td>0</td>\n      <td>0</td>\n      <td>1</td>\n      <td>0</td>\n      <td>0</td>\n      <td>0</td>\n      <td>0</td>\n      <td>0</td>\n      <td>...</td>\n      <td>0</td>\n      <td>0</td>\n      <td>0</td>\n      <td>0</td>\n      <td>0</td>\n      <td>0</td>\n      <td>0</td>\n      <td>0</td>\n      <td>0</td>\n      <td>0</td>\n    </tr>\n    <tr>\n      <th>3</th>\n      <td>Steins;Gate</td>\n      <td>0</td>\n      <td>0</td>\n      <td>0</td>\n      <td>0</td>\n      <td>0</td>\n      <td>0</td>\n      <td>0</td>\n      <td>0</td>\n      <td>0</td>\n      <td>...</td>\n      <td>0</td>\n      <td>0</td>\n      <td>0</td>\n      <td>0</td>\n      <td>0</td>\n      <td>0</td>\n      <td>1</td>\n      <td>0</td>\n      <td>0</td>\n      <td>0</td>\n    </tr>\n    <tr>\n      <th>4</th>\n      <td>Gintama&amp;#039;</td>\n      <td>1</td>\n      <td>0</td>\n      <td>0</td>\n      <td>1</td>\n      <td>0</td>\n      <td>0</td>\n      <td>0</td>\n      <td>0</td>\n      <td>0</td>\n      <td>...</td>\n      <td>0</td>\n      <td>0</td>\n      <td>0</td>\n      <td>0</td>\n      <td>0</td>\n      <td>0</td>\n      <td>0</td>\n      <td>0</td>\n      <td>0</td>\n      <td>0</td>\n    </tr>\n  </tbody>\n</table>\n<p>5 rows × 44 columns</p>\n</div>"
     },
     "metadata": {},
     "execution_count": 76
    }
   ],
   "source": [
    "# membuat dataframe tanpa anime Naruto, One Piece dan Dragon Ball\n",
    "df_recommend = df_rating_genre[~df_rating_genre['name'].isin(['Naruto','One Piece','Dragon Ball'])].drop('rating', axis=1)\n",
    "df_recommend.head()"
   ]
  },
  {
   "cell_type": "code",
   "execution_count": 77,
   "metadata": {},
   "outputs": [
    {
     "output_type": "execute_result",
     "data": {
      "text/plain": [
       "                               name    action  adventure  cars  comedy  \\\n",
       "0                    Kimi no Na wa.  0.000000   0.000000   0.0  0.0000   \n",
       "1  Fullmetal Alchemist: Brotherhood  0.110691   0.113055   0.0  0.0000   \n",
       "2                          Gintama°  0.110691   0.000000   0.0  0.1658   \n",
       "3                       Steins;Gate  0.000000   0.000000   0.0  0.0000   \n",
       "4                     Gintama&#039;  0.110691   0.000000   0.0  0.1658   \n",
       "\n",
       "   dementia  demons     drama  ecchi   fantasy  ...  shounen ai  \\\n",
       "0       0.0     0.0  0.057946    0.0  0.000000  ...         0.0   \n",
       "1       0.0     0.0  0.057946    0.0  0.113055  ...         0.0   \n",
       "2       0.0     0.0  0.000000    0.0  0.000000  ...         0.0   \n",
       "3       0.0     0.0  0.000000    0.0  0.000000  ...         0.0   \n",
       "4       0.0     0.0  0.000000    0.0  0.000000  ...         0.0   \n",
       "\n",
       "   slice of life  space  sports  super power  supernatural  thriller  vampire  \\\n",
       "0            0.0    0.0     0.0          0.0           0.0       0.0      0.0   \n",
       "1            0.0    0.0     0.0          0.0           0.0       0.0      0.0   \n",
       "2            0.0    0.0     0.0          0.0           0.0       0.0      0.0   \n",
       "3            0.0    0.0     0.0          0.0           0.0       0.0      0.0   \n",
       "4            0.0    0.0     0.0          0.0           0.0       0.0      0.0   \n",
       "\n",
       "   yaoi  yuri  \n",
       "0   0.0   0.0  \n",
       "1   0.0   0.0  \n",
       "2   0.0   0.0  \n",
       "3   0.0   0.0  \n",
       "4   0.0   0.0  \n",
       "\n",
       "[5 rows x 44 columns]"
      ],
      "text/html": "<div>\n<style scoped>\n    .dataframe tbody tr th:only-of-type {\n        vertical-align: middle;\n    }\n\n    .dataframe tbody tr th {\n        vertical-align: top;\n    }\n\n    .dataframe thead th {\n        text-align: right;\n    }\n</style>\n<table border=\"1\" class=\"dataframe\">\n  <thead>\n    <tr style=\"text-align: right;\">\n      <th></th>\n      <th>name</th>\n      <th>action</th>\n      <th>adventure</th>\n      <th>cars</th>\n      <th>comedy</th>\n      <th>dementia</th>\n      <th>demons</th>\n      <th>drama</th>\n      <th>ecchi</th>\n      <th>fantasy</th>\n      <th>...</th>\n      <th>shounen ai</th>\n      <th>slice of life</th>\n      <th>space</th>\n      <th>sports</th>\n      <th>super power</th>\n      <th>supernatural</th>\n      <th>thriller</th>\n      <th>vampire</th>\n      <th>yaoi</th>\n      <th>yuri</th>\n    </tr>\n  </thead>\n  <tbody>\n    <tr>\n      <th>0</th>\n      <td>Kimi no Na wa.</td>\n      <td>0.000000</td>\n      <td>0.000000</td>\n      <td>0.0</td>\n      <td>0.0000</td>\n      <td>0.0</td>\n      <td>0.0</td>\n      <td>0.057946</td>\n      <td>0.0</td>\n      <td>0.000000</td>\n      <td>...</td>\n      <td>0.0</td>\n      <td>0.0</td>\n      <td>0.0</td>\n      <td>0.0</td>\n      <td>0.0</td>\n      <td>0.0</td>\n      <td>0.0</td>\n      <td>0.0</td>\n      <td>0.0</td>\n      <td>0.0</td>\n    </tr>\n    <tr>\n      <th>1</th>\n      <td>Fullmetal Alchemist: Brotherhood</td>\n      <td>0.110691</td>\n      <td>0.113055</td>\n      <td>0.0</td>\n      <td>0.0000</td>\n      <td>0.0</td>\n      <td>0.0</td>\n      <td>0.057946</td>\n      <td>0.0</td>\n      <td>0.113055</td>\n      <td>...</td>\n      <td>0.0</td>\n      <td>0.0</td>\n      <td>0.0</td>\n      <td>0.0</td>\n      <td>0.0</td>\n      <td>0.0</td>\n      <td>0.0</td>\n      <td>0.0</td>\n      <td>0.0</td>\n      <td>0.0</td>\n    </tr>\n    <tr>\n      <th>2</th>\n      <td>Gintama°</td>\n      <td>0.110691</td>\n      <td>0.000000</td>\n      <td>0.0</td>\n      <td>0.1658</td>\n      <td>0.0</td>\n      <td>0.0</td>\n      <td>0.000000</td>\n      <td>0.0</td>\n      <td>0.000000</td>\n      <td>...</td>\n      <td>0.0</td>\n      <td>0.0</td>\n      <td>0.0</td>\n      <td>0.0</td>\n      <td>0.0</td>\n      <td>0.0</td>\n      <td>0.0</td>\n      <td>0.0</td>\n      <td>0.0</td>\n      <td>0.0</td>\n    </tr>\n    <tr>\n      <th>3</th>\n      <td>Steins;Gate</td>\n      <td>0.000000</td>\n      <td>0.000000</td>\n      <td>0.0</td>\n      <td>0.0000</td>\n      <td>0.0</td>\n      <td>0.0</td>\n      <td>0.000000</td>\n      <td>0.0</td>\n      <td>0.000000</td>\n      <td>...</td>\n      <td>0.0</td>\n      <td>0.0</td>\n      <td>0.0</td>\n      <td>0.0</td>\n      <td>0.0</td>\n      <td>0.0</td>\n      <td>0.0</td>\n      <td>0.0</td>\n      <td>0.0</td>\n      <td>0.0</td>\n    </tr>\n    <tr>\n      <th>4</th>\n      <td>Gintama&amp;#039;</td>\n      <td>0.110691</td>\n      <td>0.000000</td>\n      <td>0.0</td>\n      <td>0.1658</td>\n      <td>0.0</td>\n      <td>0.0</td>\n      <td>0.000000</td>\n      <td>0.0</td>\n      <td>0.000000</td>\n      <td>...</td>\n      <td>0.0</td>\n      <td>0.0</td>\n      <td>0.0</td>\n      <td>0.0</td>\n      <td>0.0</td>\n      <td>0.0</td>\n      <td>0.0</td>\n      <td>0.0</td>\n      <td>0.0</td>\n      <td>0.0</td>\n    </tr>\n  </tbody>\n</table>\n<p>5 rows × 44 columns</p>\n</div>"
     },
     "metadata": {},
     "execution_count": 77
    }
   ],
   "source": [
    "# mengkalikan anime scoring dengan genre dalam df recommend\n",
    "for i in cvr.get_feature_names():\n",
    "    df_recommend[i] = df_recommend[i]*anime_scoring[i]\n",
    "\n",
    "df_recommend.head()"
   ]
  },
  {
   "cell_type": "code",
   "execution_count": 78,
   "metadata": {},
   "outputs": [
    {
     "output_type": "execute_result",
     "data": {
      "text/plain": [
       "                               name  anime rating prediction\n",
       "0                    Kimi no Na wa.                 0.057946\n",
       "1  Fullmetal Alchemist: Brotherhood                 0.560546\n",
       "2                          Gintama°                 0.442291\n",
       "3                       Steins;Gate                 0.000000\n",
       "4                     Gintama&#039;                 0.442291"
      ],
      "text/html": "<div>\n<style scoped>\n    .dataframe tbody tr th:only-of-type {\n        vertical-align: middle;\n    }\n\n    .dataframe tbody tr th {\n        vertical-align: top;\n    }\n\n    .dataframe thead th {\n        text-align: right;\n    }\n</style>\n<table border=\"1\" class=\"dataframe\">\n  <thead>\n    <tr style=\"text-align: right;\">\n      <th></th>\n      <th>name</th>\n      <th>anime rating prediction</th>\n    </tr>\n  </thead>\n  <tbody>\n    <tr>\n      <th>0</th>\n      <td>Kimi no Na wa.</td>\n      <td>0.057946</td>\n    </tr>\n    <tr>\n      <th>1</th>\n      <td>Fullmetal Alchemist: Brotherhood</td>\n      <td>0.560546</td>\n    </tr>\n    <tr>\n      <th>2</th>\n      <td>Gintama°</td>\n      <td>0.442291</td>\n    </tr>\n    <tr>\n      <th>3</th>\n      <td>Steins;Gate</td>\n      <td>0.000000</td>\n    </tr>\n    <tr>\n      <th>4</th>\n      <td>Gintama&amp;#039;</td>\n      <td>0.442291</td>\n    </tr>\n  </tbody>\n</table>\n</div>"
     },
     "metadata": {},
     "execution_count": 78
    }
   ],
   "source": [
    "# membuat kolom baru bernama anime rating prediction\n",
    "df_recommend['anime rating prediction'] = df_recommend.sum(axis=1)\n",
    "df_recommend[['name','anime rating prediction']].head()"
   ]
  },
  {
   "cell_type": "code",
   "execution_count": 79,
   "metadata": {},
   "outputs": [
    {
     "output_type": "execute_result",
     "data": {
      "text/plain": [
       "                                                   name  \\\n",
       "5997  Dragon Ball Z Movie 11: Super Senshi Gekiha!! ...   \n",
       "1409              Dragon Ball Z Movie 15: Fukkatsu no F   \n",
       "1931                    Dragon Ball: Episode of Bardock   \n",
       "1930                                  Dragon Ball Super   \n",
       "3407  Dragon Ball Z: Zenbu Misemasu Toshi Wasure Dra...   \n",
       "\n",
       "      anime rating prediction  \n",
       "5997                 0.942054  \n",
       "1409                 0.942054  \n",
       "1931                 0.942054  \n",
       "1930                 0.942054  \n",
       "3407                 0.942054  "
      ],
      "text/html": "<div>\n<style scoped>\n    .dataframe tbody tr th:only-of-type {\n        vertical-align: middle;\n    }\n\n    .dataframe tbody tr th {\n        vertical-align: top;\n    }\n\n    .dataframe thead th {\n        text-align: right;\n    }\n</style>\n<table border=\"1\" class=\"dataframe\">\n  <thead>\n    <tr style=\"text-align: right;\">\n      <th></th>\n      <th>name</th>\n      <th>anime rating prediction</th>\n    </tr>\n  </thead>\n  <tbody>\n    <tr>\n      <th>5997</th>\n      <td>Dragon Ball Z Movie 11: Super Senshi Gekiha!! ...</td>\n      <td>0.942054</td>\n    </tr>\n    <tr>\n      <th>1409</th>\n      <td>Dragon Ball Z Movie 15: Fukkatsu no F</td>\n      <td>0.942054</td>\n    </tr>\n    <tr>\n      <th>1931</th>\n      <td>Dragon Ball: Episode of Bardock</td>\n      <td>0.942054</td>\n    </tr>\n    <tr>\n      <th>1930</th>\n      <td>Dragon Ball Super</td>\n      <td>0.942054</td>\n    </tr>\n    <tr>\n      <th>3407</th>\n      <td>Dragon Ball Z: Zenbu Misemasu Toshi Wasure Dra...</td>\n      <td>0.942054</td>\n    </tr>\n  </tbody>\n</table>\n</div>"
     },
     "metadata": {},
     "execution_count": 79
    }
   ],
   "source": [
    "# melihat 5 anime dengan anime rating prediction tertinggi\n",
    "df_recommend[['name','anime rating prediction']].sort_values('anime rating prediction', ascending=False).head()"
   ]
  },
  {
   "cell_type": "code",
   "execution_count": 82,
   "metadata": {},
   "outputs": [],
   "source": [
    "# membuat function agar lebih singkat\n",
    "def recommendMe():\n",
    "    anime_list=input('Masukkan judul-judul anime yang anda sukai, pisahkan dengan koma').split(', ')\n",
    "\n",
    "    cvr = CountVectorizer(tokenizer=lambda x:x.split(', '))\n",
    "\n",
    "    genre = cvr.fit_transform(df['genre'])\n",
    "    df_rating_genre = pd.concat([df[['name','rating']],genre_name], axis=1)\n",
    "\n",
    "    df_rating = df_rating_genre[df_rating_genre['name'].isin(anime_list)]\n",
    "    for i in cvr.get_feature_names():\n",
    "        df_rating[i] = df_rating['rating']*df_rating[i]\n",
    "    \n",
    "    df_rating.drop(['name','rating'], axis=1, inplace=True)\n",
    "    anime_scoring = df_rating.sum()/df_rating.sum().sum()\n",
    "\n",
    "    df_recommend = df_rating_genre[~df_rating_genre['name'].isin(anime_list)].drop('rating', axis=1)\n",
    "\n",
    "    for i in cvr.get_feature_names():\n",
    "        df_recommend[i] = df_recommend[i]*anime_scoring[i]\n",
    "\n",
    "    df_recommend['anime rating prediction'] = df_recommend.sum(axis=1)\n",
    "\n",
    "    return df_recommend[['name','anime rating prediction']].sort_values('anime rating prediction', ascending=False).head()"
   ]
  },
  {
   "cell_type": "code",
   "execution_count": 83,
   "metadata": {},
   "outputs": [
    {
     "output_type": "stream",
     "name": "stderr",
     "text": [
      "<ipython-input-82-8ee8a996436e>:12: SettingWithCopyWarning: \nA value is trying to be set on a copy of a slice from a DataFrame.\nTry using .loc[row_indexer,col_indexer] = value instead\n\nSee the caveats in the documentation: https://pandas.pydata.org/pandas-docs/stable/user_guide/indexing.html#returning-a-view-versus-a-copy\n  df_rating[i] = df_rating['rating']*df_rating[i]\nC:\\Users\\hapis\\anaconda3\\lib\\site-packages\\pandas\\core\\frame.py:3990: SettingWithCopyWarning: \nA value is trying to be set on a copy of a slice from a DataFrame\n\nSee the caveats in the documentation: https://pandas.pydata.org/pandas-docs/stable/user_guide/indexing.html#returning-a-view-versus-a-copy\n  return super().drop(\n"
     ]
    },
    {
     "output_type": "execute_result",
     "data": {
      "text/plain": [
       "                                                   name  \\\n",
       "5997  Dragon Ball Z Movie 11: Super Senshi Gekiha!! ...   \n",
       "1409              Dragon Ball Z Movie 15: Fukkatsu no F   \n",
       "1931                    Dragon Ball: Episode of Bardock   \n",
       "1930                                  Dragon Ball Super   \n",
       "3407  Dragon Ball Z: Zenbu Misemasu Toshi Wasure Dra...   \n",
       "\n",
       "      anime rating prediction  \n",
       "5997                 0.942054  \n",
       "1409                 0.942054  \n",
       "1931                 0.942054  \n",
       "1930                 0.942054  \n",
       "3407                 0.942054  "
      ],
      "text/html": "<div>\n<style scoped>\n    .dataframe tbody tr th:only-of-type {\n        vertical-align: middle;\n    }\n\n    .dataframe tbody tr th {\n        vertical-align: top;\n    }\n\n    .dataframe thead th {\n        text-align: right;\n    }\n</style>\n<table border=\"1\" class=\"dataframe\">\n  <thead>\n    <tr style=\"text-align: right;\">\n      <th></th>\n      <th>name</th>\n      <th>anime rating prediction</th>\n    </tr>\n  </thead>\n  <tbody>\n    <tr>\n      <th>5997</th>\n      <td>Dragon Ball Z Movie 11: Super Senshi Gekiha!! ...</td>\n      <td>0.942054</td>\n    </tr>\n    <tr>\n      <th>1409</th>\n      <td>Dragon Ball Z Movie 15: Fukkatsu no F</td>\n      <td>0.942054</td>\n    </tr>\n    <tr>\n      <th>1931</th>\n      <td>Dragon Ball: Episode of Bardock</td>\n      <td>0.942054</td>\n    </tr>\n    <tr>\n      <th>1930</th>\n      <td>Dragon Ball Super</td>\n      <td>0.942054</td>\n    </tr>\n    <tr>\n      <th>3407</th>\n      <td>Dragon Ball Z: Zenbu Misemasu Toshi Wasure Dra...</td>\n      <td>0.942054</td>\n    </tr>\n  </tbody>\n</table>\n</div>"
     },
     "metadata": {},
     "execution_count": 83
    }
   ],
   "source": [
    "recommendMe()"
   ]
  },
  {
   "source": [
    "Dari hasil content based filtering one user, anime-anime yang mempunyai kesamaan dengan anime-anime berjudul Naruto, One Piece dan Dragon Ball dapat dilihat pada table di atas"
   ],
   "cell_type": "markdown",
   "metadata": {}
  }
 ]
}